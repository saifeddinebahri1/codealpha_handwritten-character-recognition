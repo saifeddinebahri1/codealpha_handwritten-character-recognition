{
 "cells": [
  {
   "cell_type": "code",
   "execution_count": 1,
   "metadata": {
    "_cell_guid": "b1076dfc-b9ad-4769-8c92-a6c4dae69d19",
    "_uuid": "8f2839f25d086af736a60e9eeb907d3b93b6e0e5",
    "execution": {
     "iopub.execute_input": "2025-07-03T09:10:12.331002Z",
     "iopub.status.busy": "2025-07-03T09:10:12.330266Z",
     "iopub.status.idle": "2025-07-03T09:10:14.153018Z",
     "shell.execute_reply": "2025-07-03T09:10:14.152129Z",
     "shell.execute_reply.started": "2025-07-03T09:10:12.330962Z"
    },
    "trusted": true
   },
   "outputs": [
    {
     "name": "stdout",
     "output_type": "stream",
     "text": [
      "/kaggle/input/d/plsdontkillme/emnist/EMNIST/raw/emnist-digits-test-labels-idx1-ubyte\n",
      "/kaggle/input/d/plsdontkillme/emnist/EMNIST/raw/emnist-bymerge-train-labels-idx1-ubyte\n",
      "/kaggle/input/d/plsdontkillme/emnist/EMNIST/raw/emnist-letters-test-labels-idx1-ubyte\n",
      "/kaggle/input/d/plsdontkillme/emnist/EMNIST/raw/emnist-byclass-train-images-idx3-ubyte\n",
      "/kaggle/input/d/plsdontkillme/emnist/EMNIST/raw/emnist-byclass-test-images-idx3-ubyte\n",
      "/kaggle/input/d/plsdontkillme/emnist/EMNIST/raw/emnist-mnist-train-images-idx3-ubyte\n",
      "/kaggle/input/d/plsdontkillme/emnist/EMNIST/raw/emnist-digits-train-labels-idx1-ubyte\n",
      "/kaggle/input/d/plsdontkillme/emnist/EMNIST/raw/emnist-bymerge-test-images-idx3-ubyte\n",
      "/kaggle/input/d/plsdontkillme/emnist/EMNIST/raw/emnist-bymerge-test-labels-idx1-ubyte\n",
      "/kaggle/input/d/plsdontkillme/emnist/EMNIST/raw/emnist-mnist-test-labels-idx1-ubyte\n",
      "/kaggle/input/d/plsdontkillme/emnist/EMNIST/raw/emnist-balanced-test-labels-idx1-ubyte\n",
      "/kaggle/input/d/plsdontkillme/emnist/EMNIST/raw/emnist-balanced-test-images-idx3-ubyte\n",
      "/kaggle/input/d/plsdontkillme/emnist/EMNIST/raw/emnist-mnist-test-images-idx3-ubyte\n",
      "/kaggle/input/d/plsdontkillme/emnist/EMNIST/raw/emnist-bymerge-train-images-idx3-ubyte\n",
      "/kaggle/input/d/plsdontkillme/emnist/EMNIST/raw/emnist-letters-train-labels-idx1-ubyte\n",
      "/kaggle/input/d/plsdontkillme/emnist/EMNIST/raw/emnist-digits-train-images-idx3-ubyte\n",
      "/kaggle/input/d/plsdontkillme/emnist/EMNIST/raw/emnist-byclass-train-labels-idx1-ubyte\n",
      "/kaggle/input/d/plsdontkillme/emnist/EMNIST/raw/emnist-balanced-train-images-idx3-ubyte\n",
      "/kaggle/input/d/plsdontkillme/emnist/EMNIST/raw/emnist-balanced-train-labels-idx1-ubyte\n",
      "/kaggle/input/d/plsdontkillme/emnist/EMNIST/raw/emnist-letters-test-images-idx3-ubyte\n",
      "/kaggle/input/d/plsdontkillme/emnist/EMNIST/raw/emnist-byclass-test-labels-idx1-ubyte\n",
      "/kaggle/input/d/plsdontkillme/emnist/EMNIST/raw/emnist-letters-train-images-idx3-ubyte\n",
      "/kaggle/input/d/plsdontkillme/emnist/EMNIST/raw/emnist-mnist-train-labels-idx1-ubyte\n",
      "/kaggle/input/d/plsdontkillme/emnist/EMNIST/raw/emnist-digits-test-images-idx3-ubyte\n",
      "/kaggle/input/emnist/emnist-letters-mapping.txt\n",
      "/kaggle/input/emnist/emnist-letters-test.csv\n",
      "/kaggle/input/emnist/emnist-mnist-mapping.txt\n",
      "/kaggle/input/emnist/emnist-digits-train.csv\n",
      "/kaggle/input/emnist/emnist-bymerge-mapping.txt\n",
      "/kaggle/input/emnist/emnist-balanced-train.csv\n",
      "/kaggle/input/emnist/emnist-digits-test.csv\n",
      "/kaggle/input/emnist/emnist-balanced-test.csv\n",
      "/kaggle/input/emnist/emnist-mnist-test.csv\n",
      "/kaggle/input/emnist/emnist-letters-train.csv\n",
      "/kaggle/input/emnist/emnist-byclass-train.csv\n",
      "/kaggle/input/emnist/emnist-bymerge-test.csv\n",
      "/kaggle/input/emnist/emnist-balanced-mapping.txt\n",
      "/kaggle/input/emnist/emnist-mnist-train.csv\n",
      "/kaggle/input/emnist/emnist-digits-mapping.txt\n",
      "/kaggle/input/emnist/emnist-bymerge-train.csv\n",
      "/kaggle/input/emnist/emnist-byclass-test.csv\n",
      "/kaggle/input/emnist/emnist-byclass-mapping.txt\n",
      "/kaggle/input/emnist/emnist_source_files/emnist-digits-test-labels-idx1-ubyte\n",
      "/kaggle/input/emnist/emnist_source_files/emnist-bymerge-train-labels-idx1-ubyte\n",
      "/kaggle/input/emnist/emnist_source_files/emnist-letters-test-labels-idx1-ubyte\n",
      "/kaggle/input/emnist/emnist_source_files/emnist-byclass-train-images-idx3-ubyte\n",
      "/kaggle/input/emnist/emnist_source_files/emnist-byclass-test-images-idx3-ubyte\n",
      "/kaggle/input/emnist/emnist_source_files/emnist-mnist-train-images-idx3-ubyte\n",
      "/kaggle/input/emnist/emnist_source_files/emnist-digits-train-labels-idx1-ubyte\n",
      "/kaggle/input/emnist/emnist_source_files/emnist-bymerge-test-images-idx3-ubyte\n",
      "/kaggle/input/emnist/emnist_source_files/emnist-bymerge-test-labels-idx1-ubyte\n",
      "/kaggle/input/emnist/emnist_source_files/emnist-mnist-test-labels-idx1-ubyte\n",
      "/kaggle/input/emnist/emnist_source_files/emnist-balanced-test-labels-idx1-ubyte\n",
      "/kaggle/input/emnist/emnist_source_files/emnist-balanced-test-images-idx3-ubyte\n",
      "/kaggle/input/emnist/emnist_source_files/emnist-mnist-test-images-idx3-ubyte\n",
      "/kaggle/input/emnist/emnist_source_files/emnist-bymerge-train-images-idx3-ubyte\n",
      "/kaggle/input/emnist/emnist_source_files/emnist-letters-train-labels-idx1-ubyte\n",
      "/kaggle/input/emnist/emnist_source_files/emnist-digits-train-images-idx3-ubyte\n",
      "/kaggle/input/emnist/emnist_source_files/emnist-byclass-train-labels-idx1-ubyte\n",
      "/kaggle/input/emnist/emnist_source_files/emnist-balanced-train-images-idx3-ubyte\n",
      "/kaggle/input/emnist/emnist_source_files/emnist-balanced-train-labels-idx1-ubyte\n",
      "/kaggle/input/emnist/emnist_source_files/emnist-letters-test-images-idx3-ubyte\n",
      "/kaggle/input/emnist/emnist_source_files/emnist-byclass-test-labels-idx1-ubyte\n",
      "/kaggle/input/emnist/emnist_source_files/emnist-letters-train-images-idx3-ubyte\n",
      "/kaggle/input/emnist/emnist_source_files/emnist-mnist-train-labels-idx1-ubyte\n",
      "/kaggle/input/emnist/emnist_source_files/emnist-digits-test-images-idx3-ubyte\n",
      "/kaggle/input/mnist-in-csv/mnist_test.csv\n",
      "/kaggle/input/mnist-in-csv/mnist_train.csv\n",
      "/kaggle/input/emnistall/emnist-digits.mat\n",
      "/kaggle/input/emnistall/emnist-balanced.mat\n",
      "/kaggle/input/emnistall/emnist-bymerge.mat\n",
      "/kaggle/input/emnistall/emnist-letters.mat\n",
      "/kaggle/input/emnistall/emnist-mnist.mat\n",
      "/kaggle/input/emnistall/emnist-byclass.mat\n",
      "/kaggle/input/emnistbyclassmat/emnist-byclass.mat\n"
     ]
    }
   ],
   "source": [
    "# This Python 3 environment comes with many helpful analytics libraries installed\n",
    "# It is defined by the kaggle/python Docker image: https://github.com/kaggle/docker-python\n",
    "# For example, here's several helpful packages to load\n",
    "\n",
    "import numpy as np # linear algebra\n",
    "import pandas as pd # data processing, CSV file I/O (e.g. pd.read_csv)\n",
    "\n",
    "# Input data files are available in the read-only \"../input/\" directory\n",
    "# For example, running this (by clicking run or pressing Shift+Enter) will list all files under the input directory\n",
    "\n",
    "import os\n",
    "for dirname, _, filenames in os.walk('/kaggle/input'):\n",
    "    for filename in filenames:\n",
    "        print(os.path.join(dirname, filename))\n",
    "\n",
    "# You can write up to 20GB to the current directory (/kaggle/working/) that gets preserved as output when you create a version using \"Save & Run All\" \n",
    "# You can also write temporary files to /kaggle/temp/, but they won't be saved outside of the current session"
   ]
  },
  {
   "cell_type": "code",
   "execution_count": null,
   "metadata": {
    "execution": {
     "iopub.execute_input": "2025-07-03T09:10:14.154805Z",
     "iopub.status.busy": "2025-07-03T09:10:14.154440Z",
     "iopub.status.idle": "2025-07-03T09:10:20.784939Z",
     "shell.execute_reply": "2025-07-03T09:10:20.784280Z",
     "shell.execute_reply.started": "2025-07-03T09:10:14.154782Z"
    },
    "trusted": true
   },
   "outputs": [],
   "source": [
    "import pandas as pd\n",
    "import numpy as np\n",
    "\n",
    "train_df = pd.read_csv('/kaggle/input/mnist-in-csv/mnist_train.csv')\n",
    "test_df = pd.read_csv('/kaggle/input/mnist-in-csv/mnist_test.csv')\n"
   ]
  },
  {
   "cell_type": "code",
   "execution_count": null,
   "metadata": {
    "execution": {
     "iopub.execute_input": "2025-07-03T09:10:20.785865Z",
     "iopub.status.busy": "2025-07-03T09:10:20.785659Z",
     "iopub.status.idle": "2025-07-03T09:10:38.593490Z",
     "shell.execute_reply": "2025-07-03T09:10:38.592562Z",
     "shell.execute_reply.started": "2025-07-03T09:10:20.785848Z"
    },
    "trusted": true
   },
   "outputs": [
    {
     "name": "stderr",
     "output_type": "stream",
     "text": [
      "2025-07-03 09:10:23.097834: E external/local_xla/xla/stream_executor/cuda/cuda_fft.cc:477] Unable to register cuFFT factory: Attempting to register factory for plugin cuFFT when one has already been registered\n",
      "WARNING: All log messages before absl::InitializeLog() is called are written to STDERR\n",
      "E0000 00:00:1751533823.331975      35 cuda_dnn.cc:8310] Unable to register cuDNN factory: Attempting to register factory for plugin cuDNN when one has already been registered\n",
      "E0000 00:00:1751533823.402545      35 cuda_blas.cc:1418] Unable to register cuBLAS factory: Attempting to register factory for plugin cuBLAS when one has already been registered\n"
     ]
    }
   ],
   "source": [
    "from tensorflow.keras.utils import to_categorical\n",
    "\n",
    "\n",
    "x_train = train_df.iloc[:, 1:].values.reshape(-1, 28, 28, 1).astype('float32') / 255.0\n",
    "y_train = to_categorical(train_df.iloc[:, 0].values, 10)\n",
    "\n",
    "x_test = test_df.iloc[:, 1:].values.reshape(-1, 28, 28, 1).astype('float32') / 255.0\n",
    "y_test = to_categorical(test_df.iloc[:, 0].values, 10)\n"
   ]
  },
  {
   "cell_type": "code",
   "execution_count": 4,
   "metadata": {
    "execution": {
     "iopub.execute_input": "2025-07-03T09:10:38.596488Z",
     "iopub.status.busy": "2025-07-03T09:10:38.595913Z",
     "iopub.status.idle": "2025-07-03T09:10:38.845283Z",
     "shell.execute_reply": "2025-07-03T09:10:38.844519Z",
     "shell.execute_reply.started": "2025-07-03T09:10:38.596451Z"
    },
    "trusted": true
   },
   "outputs": [
    {
     "data": {
      "image/png": "[encoded data removed]",
      "text/plain": [
       "<Figure size 640x480 with 1 Axes>"
      ]
     },
     "metadata": {},
     "output_type": "display_data"
    }
   ],
   "source": [
    "import matplotlib.pyplot as plt\n",
    "\n",
    "plt.imshow(x_train[0].reshape(28, 28), cmap='gray')\n",
    "plt.title(\"Label: \" + str(np.argmax(y_train[0])))\n",
    "plt.axis('off')\n",
    "plt.show()\n"
   ]
  },
  {
   "cell_type": "code",
   "execution_count": 5,
   "metadata": {
    "execution": {
     "iopub.execute_input": "2025-07-03T09:10:38.846506Z",
     "iopub.status.busy": "2025-07-03T09:10:38.846198Z",
     "iopub.status.idle": "2025-07-03T09:10:38.854970Z",
     "shell.execute_reply": "2025-07-03T09:10:38.854077Z",
     "shell.execute_reply.started": "2025-07-03T09:10:38.846481Z"
    },
    "trusted": true
   },
   "outputs": [],
   "source": [
    "from tensorflow.keras.models import Sequential\n",
    "from tensorflow.keras.layers import Conv2D, MaxPooling2D, Flatten, Dense\n"
   ]
  },
  {
   "cell_type": "code",
   "execution_count": null,
   "metadata": {
    "execution": {
     "iopub.execute_input": "2025-07-03T09:10:38.856778Z",
     "iopub.status.busy": "2025-07-03T09:10:38.855962Z",
     "iopub.status.idle": "2025-07-03T09:10:38.975666Z",
     "shell.execute_reply": "2025-07-03T09:10:38.974780Z",
     "shell.execute_reply.started": "2025-07-03T09:10:38.856745Z"
    },
    "trusted": true
   },
   "outputs": [
    {
     "name": "stderr",
     "output_type": "stream",
     "text": [
      "/usr/local/lib/python3.11/dist-packages/keras/src/layers/convolutional/base_conv.py:107: UserWarning: Do not pass an `input_shape`/`input_dim` argument to a layer. When using Sequential models, prefer using an `Input(shape)` object as the first layer in the model instead.\n",
      "  super().__init__(activity_regularizer=activity_regularizer, **kwargs)\n",
      "2025-07-03 09:10:38.882136: E external/local_xla/xla/stream_executor/cuda/cuda_driver.cc:152] failed call to cuInit: INTERNAL: CUDA error: Failed call to cuInit: UNKNOWN ERROR (303)\n"
     ]
    }
   ],
   "source": [
    "model = Sequential([\n",
    "    \n",
    "    Conv2D(32, (3, 3), activation='relu', input_shape=(28, 28, 1)),\n",
    "\n",
    "    \n",
    "    MaxPooling2D((2, 2)),\n",
    "\n",
    "\n",
    "    Conv2D(64, (3, 3), activation='relu'),\n",
    "\n",
    "\n",
    "    MaxPooling2D((2, 2)),\n",
    "\n",
    "    \n",
    "    Flatten(),\n",
    "\n",
    "    \n",
    "    Dense(128, activation='relu'),\n",
    "\n",
    "    \n",
    "    Dense(10, activation='softmax')\n",
    "])\n"
   ]
  },
  {
   "cell_type": "code",
   "execution_count": 7,
   "metadata": {
    "execution": {
     "iopub.execute_input": "2025-07-03T09:10:38.976784Z",
     "iopub.status.busy": "2025-07-03T09:10:38.976557Z",
     "iopub.status.idle": "2025-07-03T09:10:38.996314Z",
     "shell.execute_reply": "2025-07-03T09:10:38.995420Z",
     "shell.execute_reply.started": "2025-07-03T09:10:38.976766Z"
    },
    "trusted": true
   },
   "outputs": [],
   "source": [
    "model.compile(\n",
    "    optimizer='adam',\n",
    "    loss='categorical_crossentropy',\n",
    "    metrics=['accuracy']\n",
    ")\n"
   ]
  },
  {
   "cell_type": "code",
   "execution_count": 8,
   "metadata": {
    "execution": {
     "iopub.execute_input": "2025-07-03T09:10:38.997555Z",
     "iopub.status.busy": "2025-07-03T09:10:38.997199Z",
     "iopub.status.idle": "2025-07-03T09:12:46.411954Z",
     "shell.execute_reply": "2025-07-03T09:12:46.411015Z",
     "shell.execute_reply.started": "2025-07-03T09:10:38.997526Z"
    },
    "trusted": true
   },
   "outputs": [
    {
     "name": "stdout",
     "output_type": "stream",
     "text": [
      "Epoch 1/5\n",
      "\u001b[1m844/844\u001b[0m \u001b[32m━━━━━━━━━━━━━━━━━━━━\u001b[0m\u001b[37m\u001b[0m \u001b[1m24s\u001b[0m 25ms/step - accuracy: 0.8830 - loss: 0.3872 - val_accuracy: 0.9792 - val_loss: 0.0710\n",
      "Epoch 2/5\n",
      "\u001b[1m844/844\u001b[0m \u001b[32m━━━━━━━━━━━━━━━━━━━━\u001b[0m\u001b[37m\u001b[0m \u001b[1m20s\u001b[0m 24ms/step - accuracy: 0.9827 - loss: 0.0574 - val_accuracy: 0.9852 - val_loss: 0.0518\n",
      "Epoch 3/5\n",
      "\u001b[1m844/844\u001b[0m \u001b[32m━━━━━━━━━━━━━━━━━━━━\u001b[0m\u001b[37m\u001b[0m \u001b[1m20s\u001b[0m 24ms/step - accuracy: 0.9881 - loss: 0.0365 - val_accuracy: 0.9895 - val_loss: 0.0415\n",
      "Epoch 4/5\n",
      "\u001b[1m844/844\u001b[0m \u001b[32m━━━━━━━━━━━━━━━━━━━━\u001b[0m\u001b[37m\u001b[0m \u001b[1m21s\u001b[0m 25ms/step - accuracy: 0.9913 - loss: 0.0268 - val_accuracy: 0.9897 - val_loss: 0.0378\n",
      "Epoch 5/5\n",
      "\u001b[1m844/844\u001b[0m \u001b[32m━━━━━━━━━━━━━━━━━━━━\u001b[0m\u001b[37m\u001b[0m \u001b[1m42s\u001b[0m 26ms/step - accuracy: 0.9945 - loss: 0.0184 - val_accuracy: 0.9882 - val_loss: 0.0415\n"
     ]
    }
   ],
   "source": [
    "history = model.fit(\n",
    "    x_train, y_train,\n",
    "    epochs=5,\n",
    "    batch_size=64,\n",
    "    validation_split=0.1\n",
    ")\n"
   ]
  },
  {
   "cell_type": "code",
   "execution_count": 9,
   "metadata": {
    "execution": {
     "iopub.execute_input": "2025-07-03T09:12:46.414280Z",
     "iopub.status.busy": "2025-07-03T09:12:46.413878Z",
     "iopub.status.idle": "2025-07-03T09:12:48.198489Z",
     "shell.execute_reply": "2025-07-03T09:12:48.197649Z",
     "shell.execute_reply.started": "2025-07-03T09:12:46.414236Z"
    },
    "trusted": true
   },
   "outputs": [
    {
     "name": "stdout",
     "output_type": "stream",
     "text": [
      "\u001b[1m313/313\u001b[0m \u001b[32m━━━━━━━━━━━━━━━━━━━━\u001b[0m\u001b[37m\u001b[0m \u001b[1m2s\u001b[0m 5ms/step - accuracy: 0.9864 - loss: 0.0392\n",
      "Test Accuracy: 0.9902999997138977\n"
     ]
    }
   ],
   "source": [
    "test_loss, test_accuracy = model.evaluate(x_test, y_test)\n",
    "print(\"Test Accuracy:\", test_accuracy)\n"
   ]
  },
  {
   "cell_type": "code",
   "execution_count": 10,
   "metadata": {
    "execution": {
     "iopub.execute_input": "2025-07-03T09:12:48.201600Z",
     "iopub.status.busy": "2025-07-03T09:12:48.201343Z",
     "iopub.status.idle": "2025-07-03T09:12:50.134394Z",
     "shell.execute_reply": "2025-07-03T09:12:50.133536Z",
     "shell.execute_reply.started": "2025-07-03T09:12:48.201580Z"
    },
    "trusted": true
   },
   "outputs": [
    {
     "name": "stdout",
     "output_type": "stream",
     "text": [
      "\u001b[1m313/313\u001b[0m \u001b[32m━━━━━━━━━━━━━━━━━━━━\u001b[0m\u001b[37m\u001b[0m \u001b[1m2s\u001b[0m 5ms/step\n"
     ]
    },
    {
     "data": {
      "image/png": "[encoded data removed]",
      "text/plain": [
       "<Figure size 640x480 with 1 Axes>"
      ]
     },
     "metadata": {},
     "output_type": "display_data"
    }
   ],
   "source": [
    "import numpy as np\n",
    "import matplotlib.pyplot as plt\n",
    "\n",
    "predictions = model.predict(x_test)\n",
    "\n",
    "# Pick a test image to show\n",
    "index = 10\n",
    "plt.imshow(x_test[index].reshape(28, 28), cmap='gray')\n",
    "plt.title(f\"Predicted: {np.argmax(predictions[index])}\")\n",
    "plt.axis('off')\n",
    "plt.show()\n"
   ]
  },
  {
   "cell_type": "code",
   "execution_count": 11,
   "metadata": {
    "execution": {
     "iopub.execute_input": "2025-07-03T09:12:50.135486Z",
     "iopub.status.busy": "2025-07-03T09:12:50.135199Z",
     "iopub.status.idle": "2025-07-03T09:12:50.140608Z",
     "shell.execute_reply": "2025-07-03T09:12:50.139879Z",
     "shell.execute_reply.started": "2025-07-03T09:12:50.135460Z"
    },
    "trusted": true
   },
   "outputs": [
    {
     "name": "stdout",
     "output_type": "stream",
     "text": [
      "Files in EMNIST folder:\n",
      "emnist-letters-mapping.txt\n",
      "emnist-letters-test.csv\n",
      "emnist-mnist-mapping.txt\n",
      "emnist-digits-train.csv\n",
      "emnist-bymerge-mapping.txt\n",
      "emnist-balanced-train.csv\n",
      "emnist-digits-test.csv\n",
      "emnist-balanced-test.csv\n",
      "emnist-mnist-test.csv\n",
      "emnist-letters-train.csv\n",
      "emnist-byclass-train.csv\n",
      "emnist-bymerge-test.csv\n",
      "emnist-balanced-mapping.txt\n",
      "emnist-mnist-train.csv\n",
      "emnist-digits-mapping.txt\n",
      "emnist-bymerge-train.csv\n",
      "emnist-byclass-test.csv\n",
      "emnist_source_files\n",
      "emnist-byclass-mapping.txt\n"
     ]
    }
   ],
   "source": [
    "import os\n",
    "\n",
    "print(\"Files in EMNIST folder:\")\n",
    "for f in os.listdir(\"/kaggle/input/emnist\"):\n",
    "    print(f)\n",
    "\n"
   ]
  },
  {
   "cell_type": "code",
   "execution_count": 12,
   "metadata": {
    "execution": {
     "iopub.execute_input": "2025-07-03T09:12:50.141848Z",
     "iopub.status.busy": "2025-07-03T09:12:50.141540Z",
     "iopub.status.idle": "2025-07-03T09:12:57.369298Z",
     "shell.execute_reply": "2025-07-03T09:12:57.368482Z",
     "shell.execute_reply.started": "2025-07-03T09:12:50.141821Z"
    },
    "trusted": true
   },
   "outputs": [
    {
     "name": "stdout",
     "output_type": "stream",
     "text": [
      "Training images shape: (697932, 784)\n",
      "Training labels shape: (697932,)\n"
     ]
    }
   ],
   "source": [
    "from scipy.io import loadmat\n",
    "\n",
    "# Load the EMNIST dataset\n",
    "mat = loadmat(\"/kaggle/input/emnistall/emnist-byclass.mat\")\n",
    "\n",
    "# Extract the dataset object\n",
    "data = mat[\"dataset\"]\n",
    "\n",
    "# Now extract train and test sets safely\n",
    "X_train = data[\"train\"][0][0][\"images\"][0][0]\n",
    "y_train = data[\"train\"][0][0][\"labels\"][0][0].flatten()\n",
    "\n",
    "X_test = data[\"test\"][0][0][\"images\"][0][0]\n",
    "y_test = data[\"test\"][0][0][\"labels\"][0][0].flatten()\n",
    "\n",
    "print(\"Training images shape:\", X_train.shape)\n",
    "print(\"Training labels shape:\", y_train.shape)\n"
   ]
  },
  {
   "cell_type": "code",
   "execution_count": null,
   "metadata": {
    "execution": {
     "iopub.execute_input": "2025-07-03T09:12:57.370361Z",
     "iopub.status.busy": "2025-07-03T09:12:57.370122Z",
     "iopub.status.idle": "2025-07-03T09:12:59.371333Z",
     "shell.execute_reply": "2025-07-03T09:12:59.370208Z",
     "shell.execute_reply.started": "2025-07-03T09:12:57.370341Z"
    },
    "trusted": true
   },
   "outputs": [],
   "source": [
    "\n",
    "X_train = X_train.reshape((-1, 28, 28)).astype(\"float32\") / 255.0\n",
    "X_test = X_test.reshape((-1, 28, 28)).astype(\"float32\") / 255.0\n",
    "\n",
    "\n",
    "X_train = np.transpose(X_train, (0, 2, 1))\n",
    "X_test = np.transpose(X_test, (0, 2, 1))\n",
    "\n",
    "\n",
    "X_train = np.expand_dims(X_train, axis=-1)\n",
    "X_test = np.expand_dims(X_test, axis=-1)\n",
    "\n",
    "\n",
    "y_train_cat = to_categorical(y_train, num_classes=62)\n",
    "y_test_cat = to_categorical(y_test, num_classes=62)\n"
   ]
  },
  {
   "cell_type": "code",
   "execution_count": 14,
   "metadata": {
    "execution": {
     "iopub.execute_input": "2025-07-03T09:12:59.372526Z",
     "iopub.status.busy": "2025-07-03T09:12:59.372241Z",
     "iopub.status.idle": "2025-07-03T09:12:59.434756Z",
     "shell.execute_reply": "2025-07-03T09:12:59.433926Z",
     "shell.execute_reply.started": "2025-07-03T09:12:59.372505Z"
    },
    "trusted": true
   },
   "outputs": [],
   "source": [
    "model = Sequential([\n",
    "    Conv2D(32, (3, 3), activation='relu', input_shape=(28, 28, 1)),\n",
    "    MaxPooling2D(pool_size=(2, 2)),\n",
    "    Conv2D(64, (3, 3), activation='relu'),\n",
    "    MaxPooling2D(pool_size=(2, 2)),\n",
    "    Flatten(),\n",
    "    Dense(128, activation='relu'),\n",
    "    Dense(62, activation='softmax')\n",
    "])\n",
    "\n",
    "model.compile(optimizer='adam', loss='categorical_crossentropy', metrics=['accuracy'])\n"
   ]
  },
  {
   "cell_type": "code",
   "execution_count": 15,
   "metadata": {
    "execution": {
     "iopub.execute_input": "2025-07-03T09:14:38.598598Z",
     "iopub.status.busy": "2025-07-03T09:14:38.598261Z",
     "iopub.status.idle": "2025-07-03T09:34:25.159378Z",
     "shell.execute_reply": "2025-07-03T09:34:25.158311Z",
     "shell.execute_reply.started": "2025-07-03T09:14:38.598574Z"
    },
    "trusted": true
   },
   "outputs": [
    {
     "name": "stdout",
     "output_type": "stream",
     "text": [
      "Epoch 1/5\n",
      "\u001b[1m5453/5453\u001b[0m \u001b[32m━━━━━━━━━━━━━━━━━━━━\u001b[0m\u001b[37m\u001b[0m \u001b[1m252s\u001b[0m 46ms/step - accuracy: 0.7726 - loss: 0.7553 - val_accuracy: 0.8494 - val_loss: 0.4208\n",
      "Epoch 2/5\n",
      "\u001b[1m5453/5453\u001b[0m \u001b[32m━━━━━━━━━━━━━━━━━━━━\u001b[0m\u001b[37m\u001b[0m \u001b[1m235s\u001b[0m 43ms/step - accuracy: 0.8554 - loss: 0.4007 - val_accuracy: 0.8607 - val_loss: 0.3830\n",
      "Epoch 3/5\n",
      "\u001b[1m5453/5453\u001b[0m \u001b[32m━━━━━━━━━━━━━━━━━━━━\u001b[0m\u001b[37m\u001b[0m \u001b[1m232s\u001b[0m 43ms/step - accuracy: 0.8636 - loss: 0.3665 - val_accuracy: 0.8632 - val_loss: 0.3706\n",
      "Epoch 4/5\n",
      "\u001b[1m5453/5453\u001b[0m \u001b[32m━━━━━━━━━━━━━━━━━━━━\u001b[0m\u001b[37m\u001b[0m \u001b[1m232s\u001b[0m 42ms/step - accuracy: 0.8684 - loss: 0.3488 - val_accuracy: 0.8634 - val_loss: 0.3679\n",
      "Epoch 5/5\n",
      "\u001b[1m5453/5453\u001b[0m \u001b[32m━━━━━━━━━━━━━━━━━━━━\u001b[0m\u001b[37m\u001b[0m \u001b[1m231s\u001b[0m 42ms/step - accuracy: 0.8729 - loss: 0.3366 - val_accuracy: 0.8652 - val_loss: 0.3620\n"
     ]
    },
    {
     "data": {
      "text/plain": [
       "<keras.src.callbacks.history.History at 0x7cb2bc6ca910>"
      ]
     },
     "execution_count": 15,
     "metadata": {},
     "output_type": "execute_result"
    }
   ],
   "source": [
    "model.fit(X_train, y_train_cat, batch_size=128, epochs=5, validation_data=(X_test, y_test_cat))\n"
   ]
  },
  {
   "cell_type": "code",
   "execution_count": null,
   "metadata": {
    "execution": {
     "iopub.execute_input": "2025-07-03T09:42:04.040640Z",
     "iopub.status.busy": "2025-07-03T09:42:04.040340Z",
     "iopub.status.idle": "2025-07-03T09:42:04.047110Z",
     "shell.execute_reply": "2025-07-03T09:42:04.046211Z",
     "shell.execute_reply.started": "2025-07-03T09:42:04.040618Z"
    },
    "trusted": true
   },
   "outputs": [],
   "source": [
    "\n",
    "mapping = np.genfromtxt('/kaggle/input/emnist/emnist-byclass-mapping.txt', dtype=int)\n",
    "\n",
    "\n",
    "def label_to_char(label_index):\n",
    "    return chr(mapping[label_index][1])\n"
   ]
  },
  {
   "cell_type": "code",
   "execution_count": null,
   "metadata": {
    "execution": {
     "iopub.execute_input": "2025-07-03T09:42:50.473897Z",
     "iopub.status.busy": "2025-07-03T09:42:50.473622Z",
     "iopub.status.idle": "2025-07-03T09:42:50.670469Z",
     "shell.execute_reply": "2025-07-03T09:42:50.669533Z",
     "shell.execute_reply.started": "2025-07-03T09:42:50.473879Z"
    },
    "trusted": true
   },
   "outputs": [
    {
     "data": {
      "image/png": "[encoded data removed]",
      "text/plain": [
       "<Figure size 640x480 with 1 Axes>"
      ]
     },
     "metadata": {},
     "output_type": "display_data"
    },
    {
     "name": "stdout",
     "output_type": "stream",
     "text": [
      "\u001b[1m1/1\u001b[0m \u001b[32m━━━━━━━━━━━━━━━━━━━━\u001b[0m\u001b[37m\u001b[0m \u001b[1m0s\u001b[0m 44ms/step\n",
      "✅ Predicted Character: C\n"
     ]
    }
   ],
   "source": [
    "\n",
    "index = 1230\n",
    "\n",
    "\n",
    "plt.imshow(X_test[index].reshape(28, 28), cmap='gray')\n",
    "plt.axis('off')\n",
    "plt.title(\"True Label: \" + label_to_char(y_test[index]))\n",
    "plt.show()\n",
    "\n",
    "\n",
    "prediction = model.predict(np.expand_dims(X_test[index], axis=0))\n",
    "predicted_label = np.argmax(prediction)\n",
    "print(\"✅ Predicted Character:\", label_to_char(predicted_label))\n"
   ]
  }
 ],
 "metadata": {
  "kaggle": {
   "accelerator": "none",
   "dataSources": [
    {
     "datasetId": 7160,
     "sourceId": 10705,
     "sourceType": "datasetVersion"
    },
    {
     "datasetId": 27352,
     "sourceId": 34877,
     "sourceType": "datasetVersion"
    },
    {
     "datasetId": 28438,
     "sourceId": 36233,
     "sourceType": "datasetVersion"
    },
    {
     "datasetId": 1332496,
     "sourceId": 2218847,
     "sourceType": "datasetVersion"
    },
    {
     "datasetId": 4039562,
     "sourceId": 7024917,
     "sourceType": "datasetVersion"
    }
   ],
   "dockerImageVersionId": 31040,
   "isGpuEnabled": false,
   "isInternetEnabled": false,
   "language": "python",
   "sourceType": "notebook"
  },
  "kernelspec": {
   "display_name": "Python 3",
   "language": "python",
   "name": "python3"
  },
  "language_info": {
   "codemirror_mode": {
    "name": "ipython",
    "version": 3
   },
   "file_extension": ".py",
   "mimetype": "text/x-python",
   "name": "python",
   "nbconvert_exporter": "python",
   "pygments_lexer": "ipython3",
   "version": "3.11.11"
  }
 },
 "nbformat": 4,
 "nbformat_minor": 4
}
